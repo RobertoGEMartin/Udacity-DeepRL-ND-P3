{
 "cells": [
  {
   "cell_type": "markdown",
   "metadata": {},
   "source": [
    "# Collaboration and Competition\n",
    "\n",
    "---\n",
    "\n",
    "In this notebook, you will learn how to use the Unity ML-Agents environment for the third project of the [Deep Reinforcement Learning Nanodegree](https://www.udacity.com/course/deep-reinforcement-learning-nanodegree--nd893) program.\n",
    "\n",
    "### 1. Start the Environment\n",
    "\n",
    "We begin by importing the necessary packages.  If the code cell below returns an error, please revisit the project instructions to double-check that you have installed [Unity ML-Agents](https://github.com/Unity-Technologies/ml-agents/blob/master/docs/Installation.md) and [NumPy](http://www.numpy.org/)."
   ]
  },
  {
   "cell_type": "code",
   "execution_count": 1,
   "metadata": {},
   "outputs": [],
   "source": [
    "from unityagents import UnityEnvironment\n",
    "import numpy as np"
   ]
  },
  {
   "cell_type": "markdown",
   "metadata": {},
   "source": [
    "Next, we will start the environment!  **_Before running the code cell below_**, change the `file_name` parameter to match the location of the Unity environment that you downloaded.\n",
    "\n",
    "- **Mac**: `\"path/to/Tennis.app\"`\n",
    "- **Windows** (x86): `\"path/to/Tennis_Windows_x86/Tennis.exe\"`\n",
    "- **Windows** (x86_64): `\"path/to/Tennis_Windows_x86_64/Tennis.exe\"`\n",
    "- **Linux** (x86): `\"path/to/Tennis_Linux/Tennis.x86\"`\n",
    "- **Linux** (x86_64): `\"path/to/Tennis_Linux/Tennis.x86_64\"`\n",
    "- **Linux** (x86, headless): `\"path/to/Tennis_Linux_NoVis/Tennis.x86\"`\n",
    "- **Linux** (x86_64, headless): `\"path/to/Tennis_Linux_NoVis/Tennis.x86_64\"`\n",
    "\n",
    "For instance, if you are using a Mac, then you downloaded `Tennis.app`.  If this file is in the same folder as the notebook, then the line below should appear as follows:\n",
    "```\n",
    "env = UnityEnvironment(file_name=\"Tennis.app\")\n",
    "```"
   ]
  },
  {
   "cell_type": "code",
   "execution_count": 2,
   "metadata": {},
   "outputs": [
    {
     "name": "stderr",
     "output_type": "stream",
     "text": [
      "INFO:unityagents:\n",
      "'Academy' started successfully!\n",
      "Unity Academy name: Academy\n",
      "        Number of Brains: 1\n",
      "        Number of External Brains : 1\n",
      "        Lesson number : 0\n",
      "        Reset Parameters :\n",
      "\t\t\n",
      "Unity brain name: TennisBrain\n",
      "        Number of Visual Observations (per agent): 0\n",
      "        Vector Observation space type: continuous\n",
      "        Vector Observation space size (per agent): 8\n",
      "        Number of stacked Vector Observation: 3\n",
      "        Vector Action space type: continuous\n",
      "        Vector Action space size (per agent): 2\n",
      "        Vector Action descriptions: , \n"
     ]
    }
   ],
   "source": [
    "#Ubuntu headless\n",
    "#env = UnityEnvironment(file_name='./apps/Tennis_Linux_NoVis/Tennis.x86_64')\n",
    "\n",
    "#Mac\n",
    "env = UnityEnvironment(file_name='./apps/Tennis.app')"
   ]
  },
  {
   "cell_type": "markdown",
   "metadata": {},
   "source": [
    "Environments contain **_brains_** which are responsible for deciding the actions of their associated agents. Here we check for the first brain available, and set it as the default brain we will be controlling from Python."
   ]
  },
  {
   "cell_type": "code",
   "execution_count": 3,
   "metadata": {},
   "outputs": [],
   "source": [
    "# get the default brain\n",
    "brain_name = env.brain_names[0]\n",
    "brain = env.brains[brain_name]"
   ]
  },
  {
   "cell_type": "markdown",
   "metadata": {},
   "source": [
    "### 2. Examine the State and Action Spaces\n",
    "\n",
    "In this environment, two agents control rackets to bounce a ball over a net. If an agent hits the ball over the net, it receives a reward of +0.1.  If an agent lets a ball hit the ground or hits the ball out of bounds, it receives a reward of -0.01.  Thus, the goal of each agent is to keep the ball in play.\n",
    "\n",
    "The observation space consists of 8 variables corresponding to the position and velocity of the ball and racket. Two continuous actions are available, corresponding to movement toward (or away from) the net, and jumping. \n",
    "\n",
    "Run the code cell below to print some information about the environment."
   ]
  },
  {
   "cell_type": "code",
   "execution_count": 4,
   "metadata": {},
   "outputs": [
    {
     "name": "stdout",
     "output_type": "stream",
     "text": [
      "Number of agents: 2\n",
      "Size of each action: 2\n",
      "There are 2 agents. Each observes a state with length: 24\n",
      "The state for the first agent looks like: [ 0.          0.          0.          0.          0.          0.\n",
      "  0.          0.          0.          0.          0.          0.\n",
      "  0.          0.          0.          0.         -6.65278625 -1.5\n",
      " -0.          0.          6.83172083  6.         -0.          0.        ]\n"
     ]
    }
   ],
   "source": [
    "# reset the environment\n",
    "env_info = env.reset(train_mode=True)[brain_name]\n",
    "\n",
    "# number of agents \n",
    "num_agents = len(env_info.agents)\n",
    "print('Number of agents:', num_agents)\n",
    "\n",
    "# size of each action\n",
    "action_size = brain.vector_action_space_size\n",
    "print('Size of each action:', action_size)\n",
    "\n",
    "# examine the state space \n",
    "states = env_info.vector_observations\n",
    "state_size = states.shape[1]\n",
    "print('There are {} agents. Each observes a state with length: {}'.format(states.shape[0], state_size))\n",
    "print('The state for the first agent looks like:', states[0])"
   ]
  },
  {
   "cell_type": "markdown",
   "metadata": {},
   "source": [
    "### 3. Take Random Actions in the Environment\n",
    "\n",
    "In the next code cell, you will learn how to use the Python API to control the agents and receive feedback from the environment.\n",
    "\n",
    "Once this cell is executed, you will watch the agents' performance, if they select actions at random with each time step.  A window should pop up that allows you to observe the agents.\n",
    "\n",
    "Of course, as part of the project, you'll have to change the code so that the agents are able to use their experiences to gradually choose better actions when interacting with the environment!"
   ]
  },
  {
   "cell_type": "code",
   "execution_count": 5,
   "metadata": {},
   "outputs": [
    {
     "name": "stdout",
     "output_type": "stream",
     "text": [
      "Score (max over agents) from episode 1: 0.0\n",
      "Score (max over agents) from episode 2: 0.0\n",
      "Score (max over agents) from episode 3: 0.0\n",
      "Score (max over agents) from episode 4: 0.09000000171363354\n",
      "Score (max over agents) from episode 5: 0.09000000171363354\n"
     ]
    }
   ],
   "source": [
    "for i in range(1, 6):                                      # play game for 5 episodes\n",
    "    env_info = env.reset(train_mode=False)[brain_name]     # reset the environment    \n",
    "    states = env_info.vector_observations                  # get the current state (for each agent)\n",
    "    scores = np.zeros(num_agents)                          # initialize the score (for each agent)\n",
    "    while True:\n",
    "        actions = np.random.randn(num_agents, action_size) # select an action (for each agent)\n",
    "        actions = np.clip(actions, -1, 1)                  # all actions between -1 and 1\n",
    "        env_info = env.step(actions)[brain_name]           # send all actions to tne environment\n",
    "        next_states = env_info.vector_observations         # get next state (for each agent)\n",
    "        rewards = env_info.rewards                         # get reward (for each agent)\n",
    "        dones = env_info.local_done                        # see if episode finished\n",
    "        scores += env_info.rewards                         # update the score (for each agent)\n",
    "        states = next_states                               # roll over states to next time step\n",
    "        if np.any(dones):                                  # exit loop if episode finished\n",
    "            break\n",
    "    print('Score (max over agents) from episode {}: {}'.format(i, np.max(scores)))"
   ]
  },
  {
   "cell_type": "markdown",
   "metadata": {},
   "source": [
    "When finished, you can close the environment."
   ]
  },
  {
   "cell_type": "code",
   "execution_count": 6,
   "metadata": {},
   "outputs": [],
   "source": [
    "#env.close()"
   ]
  },
  {
   "cell_type": "markdown",
   "metadata": {},
   "source": [
    "### 4. It's Your Turn!\n",
    "\n",
    "Now it's your turn to train your own agent to solve the environment!  When training the environment, set `train_mode=True`, so that the line for resetting the environment looks like the following:\n",
    "```python\n",
    "env_info = env.reset(train_mode=True)[brain_name]\n",
    "```"
   ]
  },
  {
   "cell_type": "markdown",
   "metadata": {},
   "source": [
    "# 5. Init Agent"
   ]
  },
  {
   "cell_type": "code",
   "execution_count": 5,
   "metadata": {},
   "outputs": [],
   "source": [
    "from collections import deque\n",
    "from itertools import count\n",
    "import time\n",
    "import torch\n",
    "from ddpg_agent import Agent\n",
    "import matplotlib.pyplot as plt\n",
    "%matplotlib inline\n",
    "\n",
    "agent = Agent(state_size = state_size, action_size = action_size, random_seed = 0, num_agents=2)\n"
   ]
  },
  {
   "cell_type": "code",
   "execution_count": 8,
   "metadata": {},
   "outputs": [
    {
     "name": "stdout",
     "output_type": "stream",
     "text": [
      "----------------------------------------------------------------\n",
      "        Layer (type)               Output Shape         Param #\n",
      "================================================================\n",
      "            Linear-1               [-1, 1, 512]          12,800\n",
      "            Linear-2               [-1, 1, 384]         196,992\n",
      "            Linear-3                 [-1, 1, 2]             770\n",
      "================================================================\n",
      "Total params: 210,562\n",
      "Trainable params: 210,562\n",
      "Non-trainable params: 0\n",
      "----------------------------------------------------------------\n",
      "Input size (MB): 0.00\n",
      "Forward/backward pass size (MB): 0.01\n",
      "Params size (MB): 0.80\n",
      "Estimated Total Size (MB): 0.81\n",
      "----------------------------------------------------------------\n"
     ]
    }
   ],
   "source": [
    "# https://github.com/sksq96/pytorch-summary/\n",
    "from torchsummary import summary\n",
    "states = 24\n",
    "actions = 2\n",
    "summary(agent.actor_local, input_size=(1,states))\n",
    "#summary(agent.critic_local, input_size=[(1,states),(1,actions)])\n",
    "#summary doesn't work ¿?)"
   ]
  },
  {
   "cell_type": "code",
   "execution_count": 9,
   "metadata": {},
   "outputs": [
    {
     "name": "stdout",
     "output_type": "stream",
     "text": [
      "Actor NN: \n",
      "-----------\n",
      " Actor(\n",
      "  (fc1): Linear(in_features=24, out_features=512, bias=True)\n",
      "  (fc2): Linear(in_features=512, out_features=384, bias=True)\n",
      "  (fc3): Linear(in_features=384, out_features=2, bias=True)\n",
      ") \n",
      " Adam (\n",
      "Parameter Group 0\n",
      "    amsgrad: False\n",
      "    betas: (0.9, 0.999)\n",
      "    eps: 1e-08\n",
      "    lr: 0.0001\n",
      "    weight_decay: 0\n",
      ") \n",
      "Critic NN: \n",
      "-----------\n",
      " Critic(\n",
      "  (fcs1): Linear(in_features=24, out_features=512, bias=True)\n",
      "  (fc2): Linear(in_features=514, out_features=384, bias=True)\n",
      "  (fc3): Linear(in_features=384, out_features=1, bias=True)\n",
      ") \n",
      " Adam (\n",
      "Parameter Group 0\n",
      "    amsgrad: False\n",
      "    betas: (0.9, 0.999)\n",
      "    eps: 1e-08\n",
      "    lr: 0.0001\n",
      "    weight_decay: 0\n",
      ") \n"
     ]
    }
   ],
   "source": [
    "print(\"Actor NN: \\n-----------\\n {} \\n {} \".format(agent.actor_local, agent.actor_optimizer))\n",
    "print(\"Critic NN: \\n-----------\\n {} \\n {} \".format(agent.critic_local, agent.critic_optimizer))"
   ]
  },
  {
   "cell_type": "markdown",
   "metadata": {},
   "source": [
    "# 6. Train Agent"
   ]
  },
  {
   "cell_type": "code",
   "execution_count": 10,
   "metadata": {},
   "outputs": [],
   "source": [
    "def ddpg(n_episodes=3000):\n",
    "    scores_deque = deque(maxlen=100)\n",
    "    scores_global = []\n",
    "        \n",
    "    for i_episode in range(1, n_episodes+1):\n",
    "        \n",
    "        # Keep track of the current timestep\n",
    "        timestep = time.time()\n",
    "       \n",
    "        ###################\n",
    "        # FOR EACH AGENT  #\n",
    "        ###################\n",
    "        env_info = env.reset(train_mode=True)[brain_name]      # reset env    \n",
    "        states = env_info.vector_observations                  # get current state\n",
    "        scores = np.zeros(num_agents)                          # init score\n",
    "\n",
    "        agent.reset()                                          # reset the noise\n",
    "\n",
    "        score_average = 0\n",
    "      \n",
    "        for t in count():\n",
    "            actions = agent.act(states)                        # get actions (for each state==for each agent)\n",
    "            env_info = env.step(actions)[brain_name]           # send actions to env\n",
    "            next_states = env_info.vector_observations         # get next state\n",
    "            rewards = env_info.rewards                         # get reward\n",
    "            dones = env_info.local_done                        # get dones\n",
    "            \n",
    "            #Step agents (for each state==for each agent)\n",
    "            agent.step(states, actions, rewards, next_states, dones)\n",
    "\n",
    "            #update states and scores:\n",
    "            states = next_states                               # roll over states to next time step\n",
    "            scores += rewards                                  # update the score (for each agent)            \n",
    "            \n",
    "            if np.any(dones):                                  # exit loop if episode finished\n",
    "                break\n",
    "        \n",
    "        score = np.mean(scores)\n",
    "        scores_deque.append(score)\n",
    "        score_average = np.mean(scores_deque)\n",
    "        scores_global.append(score)\n",
    "        \n",
    "        #Every N episodes print score\n",
    "        if i_episode % 10 == 0:\n",
    "            print('\\rEpisode {}, Average Score: {:.2f}, Max: {:.2f}, Min: {:.2f}, Time: {:.2f}'\\\n",
    "              .format(i_episode, score_average, np.max(scores), np.min(scores), time.time() - timestep), end=\"\\n\")        \n",
    "        \n",
    "        #Every N episodes save the models\n",
    "        if i_episode % 100 == 0:\n",
    "            print('.............Saving Checkpoints: Actor & Critic....................')\n",
    "            torch.save(agent.actor_local.state_dict(), './cp/cp_actor_cc_agent.pth')\n",
    "            torch.save(agent.critic_local.state_dict(), './cp/cp_critic_cc_agent.pth')\n",
    "            print('\\rEpisode {}\\tAverage Score: {:.2f}'.format(i_episode, np.mean(scores_deque)))   \n",
    "        \n",
    "        #The environment is considered solved, \n",
    "        # when the scores average (over 100 episodes) is at least +0.5.\n",
    "        if score_average >= 0.5:\n",
    "            print('\\nEnvironment solved in {:d} episodes!\\tAverage Score: {:.2f}'.format(i_episode, score_average))            \n",
    "            print('.............Saving Checkpoints: Actor & Critic....................')\n",
    "            torch.save(agent.actor_local.state_dict(), './cp/cp_actor_cc_one_agent.pth')\n",
    "            torch.save(agent.critic_local.state_dict(), './cp/cp_critic_cc_one_agent.pth')\n",
    "            break            \n",
    "            \n",
    "    return scores_global"
   ]
  },
  {
   "cell_type": "code",
   "execution_count": 11,
   "metadata": {},
   "outputs": [
    {
     "name": "stdout",
     "output_type": "stream",
     "text": [
      "Episode 10, Average Score: 0.01, Max: 0.00, Min: -0.01, Time: 0.12\n",
      "Episode 20, Average Score: 0.00, Max: 0.00, Min: -0.01, Time: 0.09\n",
      "Episode 30, Average Score: -0.00, Max: 0.00, Min: -0.01, Time: 0.09\n",
      "Episode 40, Average Score: 0.00, Max: 0.00, Min: -0.01, Time: 0.12\n",
      "Episode 50, Average Score: -0.00, Max: 0.00, Min: -0.01, Time: 0.09\n",
      "Episode 60, Average Score: 0.00, Max: 0.00, Min: -0.01, Time: 0.11\n",
      "Episode 70, Average Score: 0.00, Max: 0.00, Min: -0.01, Time: 0.11\n",
      "Episode 80, Average Score: 0.00, Max: 0.00, Min: -0.01, Time: 0.09\n",
      "Episode 90, Average Score: 0.00, Max: 0.10, Min: 0.09, Time: 0.35\n",
      "Episode 100, Average Score: 0.01, Max: 0.10, Min: 0.09, Time: 0.35\n",
      ".............Saving Checkpoints: Actor & Critic....................\n",
      "Episode 100\tAverage Score: 0.01\n",
      "Episode 110, Average Score: 0.01, Max: 0.00, Min: -0.01, Time: 0.09\n",
      "Episode 120, Average Score: 0.01, Max: 0.00, Min: -0.01, Time: 0.10\n",
      "Episode 130, Average Score: 0.01, Max: 0.10, Min: -0.02, Time: 0.22\n",
      "Episode 140, Average Score: 0.02, Max: 0.10, Min: -0.01, Time: 0.22\n",
      "Episode 150, Average Score: 0.03, Max: 0.00, Min: -0.01, Time: 0.10\n",
      "Episode 160, Average Score: 0.03, Max: 0.00, Min: -0.01, Time: 0.10\n",
      "Episode 170, Average Score: 0.05, Max: 0.30, Min: 0.19, Time: 0.77\n",
      "Episode 180, Average Score: 0.06, Max: 0.09, Min: 0.00, Time: 0.23\n",
      "Episode 190, Average Score: 0.07, Max: 0.09, Min: 0.00, Time: 0.23\n",
      "Episode 200, Average Score: 0.07, Max: 0.10, Min: -0.01, Time: 0.22\n",
      ".............Saving Checkpoints: Actor & Critic....................\n",
      "Episode 200\tAverage Score: 0.07\n",
      "Episode 210, Average Score: 0.08, Max: 0.10, Min: -0.01, Time: 0.23\n",
      "Episode 220, Average Score: 0.10, Max: 0.40, Min: 0.29, Time: 1.22\n",
      "Episode 230, Average Score: 0.11, Max: 0.10, Min: -0.01, Time: 0.35\n",
      "Episode 240, Average Score: 0.12, Max: 0.30, Min: 0.29, Time: 1.01\n",
      "Episode 250, Average Score: 0.12, Max: 0.10, Min: -0.01, Time: 0.35\n",
      "Episode 260, Average Score: 0.13, Max: 0.10, Min: 0.09, Time: 0.46\n",
      "Episode 270, Average Score: 0.13, Max: 0.20, Min: 0.19, Time: 0.73\n",
      "Episode 280, Average Score: 0.14, Max: 0.40, Min: 0.29, Time: 1.29\n",
      "Episode 290, Average Score: 0.14, Max: 0.10, Min: 0.09, Time: 0.41\n",
      "Episode 300, Average Score: 0.13, Max: 0.00, Min: -0.01, Time: 0.10\n",
      ".............Saving Checkpoints: Actor & Critic....................\n",
      "Episode 300\tAverage Score: 0.13\n",
      "Episode 310, Average Score: 0.13, Max: 0.40, Min: 0.29, Time: 1.21\n",
      "Episode 320, Average Score: 0.13, Max: 0.90, Min: 0.89, Time: 2.60\n",
      "Episode 330, Average Score: 0.15, Max: 0.50, Min: 0.49, Time: 1.44\n",
      "Episode 340, Average Score: 0.16, Max: 0.30, Min: 0.19, Time: 0.76\n",
      "Episode 350, Average Score: 0.17, Max: 0.00, Min: -0.01, Time: 0.10\n",
      "Episode 360, Average Score: 0.18, Max: 0.20, Min: 0.19, Time: 0.63\n",
      "Episode 370, Average Score: 0.23, Max: 1.40, Min: 1.39, Time: 4.20\n",
      "Episode 380, Average Score: 0.22, Max: 0.20, Min: 0.19, Time: 0.70\n",
      "Episode 390, Average Score: 0.25, Max: 0.20, Min: 0.09, Time: 0.55\n",
      "Episode 400, Average Score: 0.29, Max: 0.80, Min: 0.79, Time: 2.33\n",
      ".............Saving Checkpoints: Actor & Critic....................\n",
      "Episode 400\tAverage Score: 0.29\n",
      "Episode 410, Average Score: 0.29, Max: 0.00, Min: -0.01, Time: 0.10\n",
      "Episode 420, Average Score: 0.30, Max: 0.10, Min: -0.01, Time: 0.25\n",
      "Episode 430, Average Score: 0.30, Max: 0.00, Min: -0.01, Time: 0.10\n",
      "Episode 440, Average Score: 0.32, Max: 0.10, Min: -0.01, Time: 0.14\n",
      "Episode 450, Average Score: 0.35, Max: 0.10, Min: 0.09, Time: 0.30\n",
      "Episode 460, Average Score: 0.36, Max: 0.30, Min: 0.29, Time: 0.92\n",
      "Episode 470, Average Score: 0.32, Max: 0.20, Min: 0.09, Time: 0.49\n",
      "Episode 480, Average Score: 0.35, Max: 0.50, Min: 0.49, Time: 1.49\n",
      "Episode 490, Average Score: 0.35, Max: 0.10, Min: 0.09, Time: 0.39\n",
      "Episode 500, Average Score: 0.40, Max: 0.10, Min: -0.01, Time: 0.23\n",
      ".............Saving Checkpoints: Actor & Critic....................\n",
      "Episode 500\tAverage Score: 0.40\n",
      "Episode 510, Average Score: 0.42, Max: 0.90, Min: 0.89, Time: 2.61\n",
      "Episode 520, Average Score: 0.41, Max: 0.30, Min: 0.29, Time: 0.92\n",
      "Episode 530, Average Score: 0.46, Max: 2.60, Min: 2.49, Time: 7.21\n",
      "Episode 540, Average Score: 0.45, Max: 0.00, Min: -0.01, Time: 0.10\n",
      "Episode 550, Average Score: 0.43, Max: 0.70, Min: 0.59, Time: 1.93\n",
      "Episode 560, Average Score: 0.46, Max: 0.50, Min: 0.39, Time: 1.36\n",
      "Episode 570, Average Score: 0.47, Max: 0.00, Min: -0.01, Time: 0.11\n",
      "Episode 580, Average Score: 0.46, Max: 0.49, Min: 0.40, Time: 1.41\n",
      "Episode 590, Average Score: 0.45, Max: 0.00, Min: -0.01, Time: 0.11\n",
      "Episode 600, Average Score: 0.40, Max: 0.20, Min: 0.19, Time: 0.68\n",
      ".............Saving Checkpoints: Actor & Critic....................\n",
      "Episode 600\tAverage Score: 0.40\n",
      "Episode 610, Average Score: 0.41, Max: 0.00, Min: -0.01, Time: 0.10\n",
      "Episode 620, Average Score: 0.44, Max: 0.40, Min: 0.29, Time: 1.10\n",
      "Episode 630, Average Score: 0.44, Max: 0.20, Min: 0.09, Time: 0.52\n",
      "Episode 640, Average Score: 0.45, Max: 0.20, Min: 0.19, Time: 0.68\n",
      "Episode 650, Average Score: 0.47, Max: 0.00, Min: -0.01, Time: 0.13\n",
      "Episode 660, Average Score: 0.47, Max: 0.30, Min: 0.19, Time: 0.80\n",
      "Episode 670, Average Score: 0.50, Max: 0.70, Min: 0.69, Time: 2.05\n",
      "\n",
      "Environment solved in 672 episodes!\tAverage Score: 0.51\n",
      ".............Saving Checkpoints: Actor & Critic....................\n"
     ]
    }
   ],
   "source": [
    "scores = ddpg()"
   ]
  },
  {
   "cell_type": "markdown",
   "metadata": {},
   "source": [
    "# 7. Plot of Rewards  ¶"
   ]
  },
  {
   "cell_type": "code",
   "execution_count": 12,
   "metadata": {},
   "outputs": [
    {
     "data": {
      "image/png": "[encoded data removed]",
      "text/plain": [
       "<Figure size 432x288 with 1 Axes>"
      ]
     },
     "metadata": {},
     "output_type": "display_data"
    }
   ],
   "source": [
    "fig = plt.figure()\n",
    "ax = fig.add_subplot(111)\n",
    "plt.plot(np.arange(1, len(scores)+1), scores)\n",
    "plt.ylabel('Score')\n",
    "plt.xlabel('Episode #')\n",
    "plt.show()"
   ]
  },
  {
   "cell_type": "markdown",
   "metadata": {},
   "source": [
    "# 8. Watch the Smart Agent¶"
   ]
  },
  {
   "cell_type": "code",
   "execution_count": 6,
   "metadata": {},
   "outputs": [],
   "source": [
    "#load the weights from file\n",
    "agent.actor_local.load_state_dict(torch.load('./cp/cp_actor_cc_agent_672.pth', map_location='cpu'))\n",
    "agent.critic_local.load_state_dict(torch.load('./cp/cp_critic_cc_agent_672.pth', map_location='cpu'))"
   ]
  },
  {
   "cell_type": "code",
   "execution_count": 10,
   "metadata": {},
   "outputs": [
    {
     "name": "stderr",
     "output_type": "stream",
     "text": [
      "/Users/Rober/anaconda/envs/drlnd/lib/python3.6/site-packages/torch/nn/functional.py:995: UserWarning: nn.functional.tanh is deprecated. Use torch.tanh instead.\n",
      "  warnings.warn(\"nn.functional.tanh is deprecated. Use torch.tanh instead.\")\n"
     ]
    },
    {
     "name": "stdout",
     "output_type": "stream",
     "text": [
      "Total score (averaged over agents) this episode: 1.4950000224635005\n"
     ]
    }
   ],
   "source": [
    "env_info = env.reset(train_mode=False)[brain_name]     # reset the environment    \n",
    "states = env_info.vector_observations                  # get the current state (for each agent)\n",
    "scores = np.zeros(num_agents)                          # initialize the score (for each agent)\n",
    "while True:\n",
    "    actions = agent.act(states)                        # select an action (for each agent)\n",
    "    env_info = env.step(actions)[brain_name]           # send all actions to tne environment\n",
    "    next_states = env_info.vector_observations         # get next state (for each agent)\n",
    "    rewards = env_info.rewards                         # get reward (for each agent)\n",
    "    dones = env_info.local_done                        # see if episode finished\n",
    "    scores += env_info.rewards                         # update the score (for each agent)\n",
    "    states = next_states                               # roll over states to next time step\n",
    "    if np.any(dones):                                  # exit loop if episode finished\n",
    "        break\n",
    "print('Total score (averaged over agents) this episode: {}'.format(np.mean(scores)))"
   ]
  },
  {
   "cell_type": "code",
   "execution_count": 11,
   "metadata": {},
   "outputs": [],
   "source": [
    "env.close()"
   ]
  },
  {
   "cell_type": "code",
   "execution_count": null,
   "metadata": {},
   "outputs": [],
   "source": []
  },
  {
   "cell_type": "code",
   "execution_count": null,
   "metadata": {},
   "outputs": [],
   "source": []
  }
 ],
 "metadata": {
  "kernelspec": {
   "display_name": "Python 3",
   "language": "python",
   "name": "python3"
  },
  "language_info": {
   "codemirror_mode": {
    "name": "ipython",
    "version": 3
   },
   "file_extension": ".py",
   "mimetype": "text/x-python",
   "name": "python",
   "nbconvert_exporter": "python",
   "pygments_lexer": "ipython3",
   "version": "3.6.6"
  }
 },
 "nbformat": 4,
 "nbformat_minor": 2
}
